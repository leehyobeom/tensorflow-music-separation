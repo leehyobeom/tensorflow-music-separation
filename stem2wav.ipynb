{
 "cells": [
  {
   "cell_type": "code",
   "execution_count": null,
   "metadata": {
    "colab": {
     "base_uri": "https://localhost:8080/"
    },
    "executionInfo": {
     "elapsed": 20740,
     "status": "ok",
     "timestamp": 1677866589555,
     "user": {
      "displayName": "이효범",
      "userId": "06967686543013364615"
     },
     "user_tz": -540
    },
    "id": "1Dz7s8yIkDDo",
    "outputId": "9efb9bd6-9b6f-418f-9053-5deecb24a5df"
   },
   "outputs": [],
   "source": [
    "import numpy as np\n",
    "import pandas as pd\n",
    "import os\n",
    "import sklearn \n",
    "import tensorflow as tf\n",
    "import librosa\n",
    "import librosa.display\n",
    "import stempeg\n",
    "from tensorflow.keras import layers\n",
    "from tensorflow.keras.models import Model\n",
    "from sklearn.model_selection import train_test_split\n",
    "from matplotlib import pyplot as plt\n",
    "import numpy as np\n",
    "import soundfile"
   ]
  },
  {
   "cell_type": "code",
   "execution_count": null,
   "metadata": {
    "executionInfo": {
     "elapsed": 428,
     "status": "ok",
     "timestamp": 1677866619515,
     "user": {
      "displayName": "이효범",
      "userId": "06967686543013364615"
     },
     "user_tz": -540
    },
    "id": "TtvkoVg5kaeZ"
   },
   "outputs": [],
   "source": [
    "def get_path_list():\n",
    "    path_list = []\n",
    "    for dirname, _, filenames in os.walk('/path/musdb18'):\n",
    "        for filename in filenames:\n",
    "            if '.mp4' in filename:\n",
    "                file_path = dirname+'/'+ filename\n",
    "                file_origine_name = filename.rsplit('.', 1)[0]\n",
    "                path_list.append({\"file_path\":file_path, \"filename\": file_origine_name})\n",
    "    return path_list"
   ]
  },
  {
   "cell_type": "code",
   "execution_count": null,
   "metadata": {
    "colab": {
     "base_uri": "https://localhost:8080/"
    },
    "executionInfo": {
     "elapsed": 696,
     "status": "ok",
     "timestamp": 1677866698829,
     "user": {
      "displayName": "이효범",
      "userId": "06967686543013364615"
     },
     "user_tz": -540
    },
    "id": "Q49Q72N1pAMl",
    "outputId": "7837ac9f-47db-4bb0-97b7-e8eebdadd187"
   },
   "outputs": [],
   "source": [
    "def get_wav_path_list():\n",
    "    path_list = []\n",
    "\n",
    "    for dirname, _, filenames in os.walk('/path'):\n",
    "        for filename in filenames:\n",
    "            if '.wav' in filename:\n",
    "                file_path = dirname+'/'+ filename\n",
    "                file_origine_name = filename.rsplit('.', 1)[0]\n",
    "                path_list.append({\"file_path\":file_path, \"filename\": file_origine_name})\n",
    "    return path_list\n",
    "wav_list = get_path_list()\n",
    "print(len(wav_list))"
   ]
  },
  {
   "cell_type": "code",
   "execution_count": null,
   "metadata": {
    "id": "udKOCJFtmw7E"
   },
   "outputs": [],
   "source": [
    " # channel\n",
    "# 0 - The mixture,\n",
    "# 1 - The drums,\n",
    "# 2 - The bass,\n",
    "# 3 - The rest of the accompaniment,\n",
    "# 4 - The vocals.\n",
    "\n",
    "def save_wav(y, sr, file_name):\n",
    "  mix = np.transpose(y[0])[0]\n",
    "  drum = np.transpose(y[1])[0]\n",
    "  bass = np.transpose(y[2])[0]\n",
    "  other = np.transpose(y[3])[0]\n",
    "  vocal = np.transpose(y[4])[0]\n",
    "\n",
    "  tartget_path = \"/path/wav/\"\n",
    "  soundfile.write(tartget_path + \"mix/\" + file_name + \"-mix.wav\", mix, sr,  format='WAV')\n",
    "  soundfile.write(tartget_path + \"drum/\" + file_name + \"-drum.wav\", drum, sr,  format='WAV')\n",
    "  soundfile.write(tartget_path + \"bass/\" + file_name + \"-bass.wav\", bass, sr,  format='WAV')\n",
    "  soundfile.write(tartget_path + \"other/\" + file_name + \"-other.wav\", other, sr,  format='WAV')\n",
    "  soundfile.write(tartget_path + \"vocal/\" + file_name + \"-vocal.wav\", vocal, sr,  format='WAV')\n",
    "\n",
    "def stem2wav(fileinfo):\n",
    "  y, sr = stempeg.read_stems(fileinfo[\"file_path\"])\n",
    "  save_wav(y, sr, fileinfo[\"filename\"])\n"
   ]
  },
  {
   "cell_type": "code",
   "execution_count": null,
   "metadata": {
    "colab": {
     "base_uri": "https://localhost:8080/"
    },
    "executionInfo": {
     "elapsed": 421,
     "status": "ok",
     "timestamp": 1677866683429,
     "user": {
      "displayName": "이효범",
      "userId": "06967686543013364615"
     },
     "user_tz": -540
    },
    "id": "CoZZI5nPlH2r",
    "outputId": "e7c30ffa-f6bd-4063-f9ab-121c9e6ce3a7"
   },
   "outputs": [],
   "source": [
    "path_list = get_path_list()\n",
    "# for path in path_list:\n",
    "#   stem2wav(path)\n",
    "print(len(path_list))\n"
   ]
  }
 ],
 "metadata": {
  "colab": {
   "authorship_tag": "ABX9TyPnO4CoDhg7jVS5UXGNSoqh",
   "mount_file_id": "16L6Gi57vGY2EM17M0BNVhu902ogUh3bL",
   "provenance": []
  },
  "kernelspec": {
   "display_name": "Python 3 (ipykernel)",
   "language": "python",
   "name": "python3"
  },
  "language_info": {
   "codemirror_mode": {
    "name": "ipython",
    "version": 3
   },
   "file_extension": ".py",
   "mimetype": "text/x-python",
   "name": "python",
   "nbconvert_exporter": "python",
   "pygments_lexer": "ipython3",
   "version": "3.9.13"
  }
 },
 "nbformat": 4,
 "nbformat_minor": 1
}
