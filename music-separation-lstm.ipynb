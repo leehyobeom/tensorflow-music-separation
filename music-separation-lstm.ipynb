{
 "cells": [
  {
   "cell_type": "code",
   "execution_count": null,
   "metadata": {
    "colab": {
     "base_uri": "https://localhost:8080/"
    },
    "executionInfo": {
     "elapsed": 5114,
     "status": "ok",
     "timestamp": 1678077527566,
     "user": {
      "displayName": "이효범",
      "userId": "06967686543013364615"
     },
     "user_tz": -540
    },
    "id": "sUASyjAX7lpz",
    "outputId": "e521c306-ecea-4e86-89bb-547f0f867d84"
   },
   "outputs": [],
   "source": [
    "%load_ext tensorboard\n",
    "import numpy as np\n",
    "import pandas as pd \n",
    "import os\n",
    "import sklearn \n",
    "import tensorflow as tf\n",
    "import librosa\n",
    "import librosa.display\n",
    "import soundfile\n",
    "from tensorflow.keras import layers\n",
    "from tensorflow.keras.models import Model\n",
    "from sklearn.model_selection import train_test_split\n",
    "from matplotlib import pyplot as plt\n",
    "import math\n",
    "import random\n",
    "import datetime\n",
    "from tensorflow.keras.callbacks import ModelCheckpoint"
   ]
  },
  {
   "cell_type": "code",
   "execution_count": null,
   "metadata": {
    "executionInfo": {
     "elapsed": 1,
     "status": "ok",
     "timestamp": 1678077530155,
     "user": {
      "displayName": "이효범",
      "userId": "06967686543013364615"
     },
     "user_tz": -540
    },
    "id": "BTq0-aahdqbh"
   },
   "outputs": [],
   "source": [
    "def get_name_list():\n",
    "    name_list = []\n",
    "    for dirname, _, filenames in os.walk('Your Musedb Path'):\n",
    "        for filename in filenames:\n",
    "            if '.wav' in filename:\n",
    "                name_list.append(filename)\n",
    "    return name_list"
   ]
  },
  {
   "cell_type": "markdown",
   "metadata": {},
   "source": [
    "[wav 파일 디렉토리 구조]\n",
    "\n",
    "wav/\n",
    " - mix/\n",
    " - bass/\n",
    " - vocal/\n",
    " - drum/\n",
    " - other/"
   ]
  },
  {
   "cell_type": "code",
   "execution_count": null,
   "metadata": {},
   "outputs": [],
   "source": [
    "get_name_list()"
   ]
  },
  {
   "cell_type": "code",
   "execution_count": null,
   "metadata": {},
   "outputs": [],
   "source": [
    "# N_FFT = 2046\n",
    "# SAPLE_RATE = 44100\n",
    "# TEIM_LENGTH = 16000\n",
    "\n",
    "N_FFT = 1022\n",
    "SAPLE_RATE = 22050\n",
    "TIME_LENGTH = 8000\n",
    "TARGET = \"other\""
   ]
  },
  {
   "cell_type": "code",
   "execution_count": null,
   "metadata": {},
   "outputs": [],
   "source": [
    "# WAV Augmentation\n",
    "# 출처: https://www.kaggle.com/code/huseinzol05/sound-augmentation-librosa/notebook\n",
    "\n",
    "def change_pitch_and_speed(samples, random_uniform):\n",
    "    y_pitch_speed = samples.copy()\n",
    "    # length_change = np.random.uniform(low=0.8, high = 1)\n",
    "    length_change = random_uniform\n",
    "    speed_fac = 1.0  / length_change\n",
    "    tmp = np.interp(np.arange(0,len(y_pitch_speed),speed_fac),np.arange(0,len(y_pitch_speed)),y_pitch_speed)\n",
    "    minlen = min(y_pitch_speed.shape[0], tmp.shape[0])\n",
    "    y_pitch_speed *= 0\n",
    "    y_pitch_speed[0:minlen] = tmp[0:minlen]\n",
    "    return y_pitch_speed\n",
    "    \n",
    "def value_augmentation(samples, random_uniform):\n",
    "    y_aug = samples.copy()\n",
    "    # dyn_change = np.random.uniform(low=1.5,high=3)\n",
    "    dyn_change = random_uniform\n",
    "    y_aug = y_aug * dyn_change\n",
    "    return y_aug\n",
    "\n",
    "def add_distribution_noise(samples, random_uniform):\n",
    "    y_noise = samples.copy()\n",
    "    noise_amp = 0.005*random_uniform*np.amax(y_noise)\n",
    "    y_noise = y_noise.astype('float64') + noise_amp * np.random.normal(size=y_noise.shape[0])\n",
    "    return y_noise\n",
    "\n",
    "def streching(samples):\n",
    "    input_length = len(samples)\n",
    "    streching = samples.copy()\n",
    "    streching = librosa.effects.time_stretch(streching.astype('float'), rate=1.1)\n",
    "    if len(streching) > input_length:\n",
    "        streching = streching[:input_length]\n",
    "    else:\n",
    "        streching = np.pad(streching, (0, max(0, input_length - len(streching))), \"constant\")\n",
    "    return streching\n",
    "\n",
    "def change_pitch_only(samples, random_uniform):\n",
    "    y_pitch = samples.copy()\n",
    "    bins_per_octave = 12\n",
    "    pitch_pm = 2\n",
    "    pitch_change =  pitch_pm * 2*random_uniform   \n",
    "    y_pitch = librosa.effects.pitch_shift(y_pitch.astype('float64'), \n",
    "                                      sr=SAPLE_RATE, n_steps=pitch_change, \n",
    "                                      bins_per_octave=bins_per_octave)\n",
    "    return y_pitch\n",
    "def change_speed_only(samples, random_uniform):\n",
    "    y_speed = samples.copy()\n",
    "    # speed_change = np.random.uniform(low=0.9,high=1.1)\n",
    "    speed_change = random_uniform\n",
    "    tmp = librosa.effects.time_stretch(y_speed.astype('float64'), rate = speed_change)\n",
    "    minlen = min(y_speed.shape[0], tmp.shape[0])\n",
    "    y_speed *= 0 \n",
    "    y_speed[0:minlen] = tmp[0:minlen]\n",
    "    return y_speed\n",
    "\n",
    "def random_shifting(samples, random_uniform):\n",
    "    y_shift = samples.copy()\n",
    "    timeshift_fac = 0.2 *2*(random_uniform-0.5)  # up to 20% of length\n",
    "    start = int(y_shift.shape[0] * timeshift_fac)\n",
    "    if (start > 0):\n",
    "        y_shift = np.pad(y_shift,(start,0),mode='constant')[0:y_shift.shape[0]]\n",
    "    else:\n",
    "        y_shift = np.pad(y_shift,(0,-start),mode='constant')[0:y_shift.shape[0]]\n",
    "    return y_shift\n",
    "\n",
    "def hpss_harmonics(samples):\n",
    "    y_harm, y_perc = librosa.effects.hpss(samples.astype('float64'))\n",
    "    return y_harm\n",
    "\n",
    "def hpss_percussive(samples):\n",
    "    y_harm, y_perc = librosa.effects.hpss(samples.astype('float64'))\n",
    "    return y_perc"
   ]
  },
  {
   "cell_type": "code",
   "execution_count": null,
   "metadata": {},
   "outputs": [],
   "source": [
    "def audio_aug(mix_audio, target_audio, aug_num):\n",
    "    index = aug_num % 10\n",
    "    mix_aug_audio = mix_audio\n",
    "    target_aug_audio = target_audio\n",
    "    \n",
    "    if index == 0:\n",
    "        mix_aug_audio = mix_audio\n",
    "        target_aug_audio = target_audio\n",
    "        \n",
    "    elif index == 1:\n",
    "        ran = np.random.uniform(low=0.8, high = 1)\n",
    "        mix_aug_audio = change_pitch_and_speed(mix_audio, ran)\n",
    "        target_aug_audio = change_pitch_and_speed(target_audio, ran)\n",
    "        \n",
    "    elif index == 2:\n",
    "        ran = np.random.uniform(low=1.5,high=3)\n",
    "        mix_aug_audio = value_augmentation(mix_audio, ran)\n",
    "        target_aug_audio = value_augmentation(target_audio, ran)\n",
    "        \n",
    "    elif index == 3:\n",
    "        ran = np.random.uniform()\n",
    "        mix_aug_audio = add_distribution_noise(mix_audio, ran)\n",
    "        target_aug_audio = add_distribution_noise(target_audio, ran)\n",
    "        \n",
    "    elif index == 4:\n",
    "        mix_aug_audio = streching(mix_audio)\n",
    "        target_aug_audio = streching(target_audio)\n",
    "        \n",
    "    elif index == 5:\n",
    "        ran = np.random.uniform()\n",
    "        mix_aug_audio = change_pitch_only(mix_audio, ran)\n",
    "        target_aug_audio = change_pitch_only(target_audio, ran)\n",
    "        \n",
    "    elif index == 6:\n",
    "        ran = np.random.uniform(low=0.9,high=1.1)\n",
    "        mix_aug_audio = change_speed_only(mix_audio, ran)\n",
    "        target_aug_audio = change_speed_only(target_audio, ran)\n",
    "        \n",
    "    elif index == 7:\n",
    "        ran = np.random.uniform()\n",
    "        mix_aug_audio = random_shifting(mix_audio, ran)\n",
    "        target_aug_audio = random_shifting(target_audio, ran)\n",
    "        \n",
    "    elif index == 8:\n",
    "        mix_aug_audio = hpss_harmonics(mix_audio)\n",
    "        target_aug_audio = hpss_harmonics(target_audio)\n",
    "        \n",
    "    elif index == 9:\n",
    "        mix_aug_audio = hpss_percussive(mix_audio)\n",
    "        target_aug_audio = hpss_percussive(target_audio)\n",
    "    \n",
    "    return np.array(mix_aug_audio), np.array(target_aug_audio)"
   ]
  },
  {
   "cell_type": "code",
   "execution_count": null,
   "metadata": {},
   "outputs": [],
   "source": [
    "def getAudio(file_name, target):\n",
    "    path = \"/Users/hyobeom/git/ML/musdb18/wav/\" + target + \"/\" + file_name\n",
    "    audio, sr = librosa.load(path, sr=SAPLE_RATE)\n",
    "    return audio"
   ]
  },
  {
   "cell_type": "code",
   "execution_count": null,
   "metadata": {
    "executionInfo": {
     "elapsed": 309,
     "status": "ok",
     "timestamp": 1678077536707,
     "user": {
      "displayName": "이효범",
      "userId": "06967686543013364615"
     },
     "user_tz": -540
    },
    "id": "FWJfG-mPHfiO"
   },
   "outputs": [],
   "source": [
    "def getSpectogram(audio):\n",
    "  # defualt_librosa_sample_rate: 22050\n",
    "  # defualt_librosa_nfft: 512\n",
    "  # stft_time_length: 12000 = 6143488 / 512(nfft) + 1\n",
    "  # stft_time_length: 6000 = 3071488 / 512(nfft) + 1\n",
    "  # stft_time_length: 8000 = 4095488 / 512(nfft) + 1\n",
    "  # 6143488 / 22050 = 4.6 분\n",
    "  # 3071488 / 22050 = 2.3 분\n",
    "  spectrogram = librosa.stft(audio, n_fft=N_FFT)\n",
    "  spectrogram = librosa.util.fix_length(spectrogram, size=TIME_LENGTH, axis=1)\n",
    "  spectrogram = np.abs(spectrogram)**0.5\n",
    "  spectrogram = np.array(spectrogram).T\n",
    "  spectrogram = np.array(np.split(spectrogram, 10, axis=0)) \n",
    "  return spectrogram"
   ]
  },
  {
   "cell_type": "code",
   "execution_count": null,
   "metadata": {},
   "outputs": [],
   "source": [
    "def getSpectogram_full(audio):\n",
    "  # defualt_librosa_sample_rate: 22050\n",
    "  # defualt_librosa_nfft: 512\n",
    "  # stft_time_length: 12000 = 6143488 / 512(nfft) + 1\n",
    "  # stft_time_length: 6000 = 3071488 / 512(nfft) + 1\n",
    "  # stft_time_length: 8000 = 4095488 / 512(nfft) + 1\n",
    "  # 6143488 / 22050 = 4.6 분\n",
    "  # 3071488 / 22050 = 2.3 분\n",
    "  spectrogram = librosa.stft(audio, n_fft=N_FFT)\n",
    "  spectrogram = librosa.util.fix_length(spectrogram, size=12000, axis=1)\n",
    "  spectrogram = np.abs(spectrogram)**0.5\n",
    "  spectrogram = np.array(spectrogram).T\n",
    "  spectrogram = np.array(np.split(spectrogram, 10, axis=0)) \n",
    "  return spectrogram"
   ]
  },
  {
   "cell_type": "code",
   "execution_count": null,
   "metadata": {},
   "outputs": [],
   "source": [
    "def augmentation_audio_set(file_name, aug_num):\n",
    "    mix_audio = getAudio(file_name, \"mix\")\n",
    "    target_audio = getAudio(file_name, TARGET)\n",
    "    \n",
    "    mix_aug_audio, target_aug_audio = audio_aug(mix_audio, target_audio, aug_num)\n",
    "    mix_spectrogram = getSpectogram(mix_aug_audio)\n",
    "    target_sepctrogram = getSpectogram(target_aug_audio)\n",
    "    return mix_spectrogram, target_sepctrogram"
   ]
  },
  {
   "cell_type": "code",
   "execution_count": null,
   "metadata": {},
   "outputs": [],
   "source": [
    "mix_spectrogram, target_sepctrogram = augmentation_audio_set(\"Your Musedb Path\", 10)\n",
    "print(tf.shape(mix_spectrogram))\n",
    "print(np.min(mix_spectrogram), np.max(mix_spectrogram))"
   ]
  },
  {
   "cell_type": "code",
   "execution_count": null,
   "metadata": {
    "executionInfo": {
     "elapsed": 289,
     "status": "ok",
     "timestamp": 1678077219636,
     "user": {
      "displayName": "이효범",
      "userId": "06967686543013364615"
     },
     "user_tz": -540
    },
    "id": "uUvq6p9ou6Uo"
   },
   "outputs": [],
   "source": [
    "def spectrogram2wav(split_spectrogram, path):\n",
    "  spectrogram = np.reshape(split_spectrogram, (-1, 512))\n",
    "  spectrogram = spectrogram **2\n",
    "  spectrogram = spectrogram.T\n",
    "  spectrogram = librosa.griffinlim(spectrogram, n_fft=N_FFT)\n",
    "  soundfile.write(path, spectrogram, SAPLE_RATE,  format='WAV')"
   ]
  },
  {
   "cell_type": "code",
   "execution_count": null,
   "metadata": {},
   "outputs": [],
   "source": [
    "spectrogram2wav(mix_spectrogram, \"Your Musedb Path\")"
   ]
  },
  {
   "cell_type": "code",
   "execution_count": null,
   "metadata": {},
   "outputs": [],
   "source": [
    "spectrogram2wav(target_sepctrogram, \"Your Musedb Path\")"
   ]
  },
  {
   "cell_type": "code",
   "execution_count": null,
   "metadata": {},
   "outputs": [],
   "source": [
    "def visualize_spectogram(split_spectrogram):\n",
    "  spectrogram = np.reshape(split_spectrogram, (-1, 512))\n",
    "  spectrogram = spectrogram\n",
    "  spectrogram = spectrogram.T\n",
    "  spectrogram = np.flip(spectrogram, axis=0)\n",
    "  plt.imshow(spectrogram, aspect='auto', interpolation='nearest')\n",
    "  plt.show()"
   ]
  },
  {
   "cell_type": "code",
   "execution_count": null,
   "metadata": {},
   "outputs": [],
   "source": [
    "visualize_spectogram(mix_spectrogram)"
   ]
  },
  {
   "cell_type": "code",
   "execution_count": null,
   "metadata": {
    "executionInfo": {
     "elapsed": 485,
     "status": "ok",
     "timestamp": 1678077646631,
     "user": {
      "displayName": "이효범",
      "userId": "06967686543013364615"
     },
     "user_tz": -540
    },
    "id": "Hb-Aez6LlhPa"
   },
   "outputs": [],
   "source": [
    "class Spectogram_DataSet(tf.keras.utils.Sequence):\n",
    "    def __init__(self, name_list, augmentation=True):\n",
    "        self.name_list = name_list\n",
    "        self.augmentation = augmentation\n",
    "\n",
    "    def __len__(self):\n",
    "        return int(np.ceil(len(self.name_list)))\n",
    "    \n",
    "    def __getitem__(self, index):\n",
    "        aug_num = 0\n",
    "        if self.augmentation:\n",
    "            aug_num = random.randint(0, 4)\n",
    "        mix_spectrogram, target_sepctrogram = augmentation_audio_set(self.name_list[index], aug_num)\n",
    "        \n",
    "        return np.array(mix_spectrogram), np.array(target_sepctrogram)\n",
    "    def on_epoch_end(self):\n",
    "        self.name_list = sklearn.utils.shuffle(self.name_list)"
   ]
  },
  {
   "cell_type": "code",
   "execution_count": null,
   "metadata": {
    "executionInfo": {
     "elapsed": 941,
     "status": "ok",
     "timestamp": 1678077650901,
     "user": {
      "displayName": "이효범",
      "userId": "06967686543013364615"
     },
     "user_tz": -540
    },
    "id": "UkNMhl1SJEYw"
   },
   "outputs": [],
   "source": [
    "def get_train_valid_test():\n",
    "  name_list = get_name_list()\n",
    "  train, test, train_la, test_la = train_test_split(name_list, name_list, test_size=0.1, random_state=2021)\n",
    "  tr, var, tr_la, var_la = train_test_split(train, train_la, test_size=0.2, random_state=2021)\n",
    "  return tr, var, test, train"
   ]
  },
  {
   "cell_type": "code",
   "execution_count": null,
   "metadata": {},
   "outputs": [],
   "source": [
    "tr, var, test, train = get_train_valid_test()"
   ]
  },
  {
   "cell_type": "code",
   "execution_count": null,
   "metadata": {
    "executionInfo": {
     "elapsed": 297,
     "status": "ok",
     "timestamp": 1678077697505,
     "user": {
      "displayName": "이효범",
      "userId": "06967686543013364615"
     },
     "user_tz": -540
    },
    "id": "8i41lA7V0nxr"
   },
   "outputs": [],
   "source": [
    "train_ds = Spectogram_DataSet(train, False)\n",
    "tr_ds = Spectogram_DataSet(tr, False)\n",
    "val_ds = Spectogram_DataSet(var, False)\n",
    "test_ds = Spectogram_DataSet(test, False)"
   ]
  },
  {
   "cell_type": "code",
   "execution_count": null,
   "metadata": {
    "id": "cfMqtRoNklT4"
   },
   "outputs": [],
   "source": [
    "def unmix_keras():\n",
    "  input = layers.Input(shape=(None, 512))\n",
    "  x = layers.LayerNormalization()(input)\n",
    "  x = layers.Dense(512)(x)\n",
    "  x = layers.BatchNormalization()(x)\n",
    "  x_skip = layers.Activation(\"tanh\")(x)\n",
    "  x = layers.Bidirectional(layers.LSTM(256, return_sequences=True))(x_skip)\n",
    "  x = layers.Bidirectional(layers.LSTM(256, return_sequences=True))(x)\n",
    "  x = layers.Bidirectional(layers.LSTM(256, return_sequences=True))(x)\n",
    "  x = layers.Add()([x, x_skip])\n",
    "  x = layers.Dense(512)(x)\n",
    "  x = layers.BatchNormalization()(x)\n",
    "  x = layers.Activation(\"relu\")(x)\n",
    "  x = layers.Dense(512)(x)\n",
    "  x = layers.BatchNormalization()(x)\n",
    "  x = layers.Activation(\"relu\")(x)\n",
    "  model = Model(input, x * input)\n",
    "  model.compile(optimizer=\"adam\", loss=\"mse\")\n",
    "  return model\n",
    "model = open_unmix_keras()\n",
    "model.summary()"
   ]
  },
  {
   "cell_type": "code",
   "execution_count": null,
   "metadata": {},
   "outputs": [],
   "source": [
    "earlyStopping = tf.keras.callbacks.EarlyStopping(monitor='val_loss', patience=10)"
   ]
  },
  {
   "cell_type": "code",
   "execution_count": null,
   "metadata": {},
   "outputs": [],
   "source": [
    "checkpoint = ModelCheckpoint(\"checkpoint-\"+ TARGET, monitor='val_loss', verbose=1, save_best_only=True, mode='auto')"
   ]
  },
  {
   "cell_type": "code",
   "execution_count": null,
   "metadata": {},
   "outputs": [],
   "source": [
    "log_dir = \"logs/fit/\" + TARGET + datetime.datetime.now().strftime(\"%Y%m%d-%H%M%S\")\n",
    "tensorboard_callback = tf.keras.callbacks.TensorBoard(log_dir=log_dir, histogram_freq=1)"
   ]
  },
  {
   "cell_type": "code",
   "execution_count": null,
   "metadata": {
    "colab": {
     "base_uri": "https://localhost:8080/"
    },
    "executionInfo": {
     "elapsed": 2006871,
     "status": "ok",
     "timestamp": 1677991110809,
     "user": {
      "displayName": "이효범",
      "userId": "06967686543013364615"
     },
     "user_tz": -540
    },
    "id": "JtRbP2KPuG3g",
    "outputId": "0004cbee-77c7-41c7-a24a-09e38bf3339c"
   },
   "outputs": [],
   "source": [
    "# train_ds = Spectogram_DataSet(train, True)\n",
    "# tr_ds = Spectogram_DataSet(tr, True)\n",
    "# val_ds = Spectogram_DataSet(var, False)\n",
    "# test_ds = Spectogram_DataSet(test, False)\n",
    "history = model.fit(tr_ds, validation_data=val_ds, epochs=60,  callbacks=[checkpoint, tensorboard_callback])"
   ]
  },
  {
   "cell_type": "code",
   "execution_count": null,
   "metadata": {},
   "outputs": [],
   "source": [
    "checkModel = unmix_keras()"
   ]
  },
  {
   "cell_type": "code",
   "execution_count": null,
   "metadata": {},
   "outputs": [],
   "source": [
    "history = checkModel.fit(tr_ds, validation_data=val_ds, epochs=300,  callbacks=[checkpoint, tensorboard_callback])"
   ]
  },
  {
   "cell_type": "code",
   "execution_count": null,
   "metadata": {},
   "outputs": [],
   "source": [
    "checkModel.load_weights(\"checkpoint-\" + TARGET)"
   ]
  },
  {
   "cell_type": "code",
   "execution_count": null,
   "metadata": {},
   "outputs": [],
   "source": [
    "model.save('hb-unmix-' + TARGET)"
   ]
  },
  {
   "cell_type": "code",
   "execution_count": null,
   "metadata": {},
   "outputs": [],
   "source": [
    "# tr, var, test, train\n",
    "print(test[0])"
   ]
  },
  {
   "cell_type": "code",
   "execution_count": null,
   "metadata": {},
   "outputs": [],
   "source": [
    "audio = getAudio(\"Your Path\" , \"mix\")"
   ]
  },
  {
   "cell_type": "code",
   "execution_count": null,
   "metadata": {},
   "outputs": [],
   "source": []
  },
  {
   "cell_type": "code",
   "execution_count": null,
   "metadata": {
    "id": "tXzQBqWKOoab"
   },
   "outputs": [],
   "source": [
    "Leave_spectrogram = getSpectogram_full(audio)"
   ]
  },
  {
   "cell_type": "code",
   "execution_count": null,
   "metadata": {},
   "outputs": [],
   "source": [
    "predicted = checkModel.predict(Leave_spectrogram)"
   ]
  },
  {
   "cell_type": "code",
   "execution_count": null,
   "metadata": {
    "colab": {
     "base_uri": "https://localhost:8080/"
    },
    "executionInfo": {
     "elapsed": 652733,
     "status": "ok",
     "timestamp": 1677995179465,
     "user": {
      "displayName": "이효범",
      "userId": "06967686543013364615"
     },
     "user_tz": -540
    },
    "id": "mpTF_X49ND8U",
    "outputId": "74188e5d-d0d0-4d75-f4c7-1d85d4bbb37d"
   },
   "outputs": [],
   "source": [
    "visualize_spectogram(predicted)"
   ]
  },
  {
   "cell_type": "code",
   "execution_count": null,
   "metadata": {},
   "outputs": [],
   "source": [
    "spectrogram2wav(predicted, \"Your Path\")"
   ]
  },
  {
   "cell_type": "code",
   "execution_count": null,
   "metadata": {},
   "outputs": [],
   "source": []
  }
 ],
 "metadata": {
  "colab": {
   "authorship_tag": "ABX9TyNbB4IE7Jm+XE4u4lK9DgoE",
   "mount_file_id": "1MoGO50gsD__sHyWV5fOgw3LKIzrgWP6C",
   "provenance": []
  },
  "gpuClass": "standard",
  "kernelspec": {
   "display_name": "Python 3 (ipykernel)",
   "language": "python",
   "name": "python3"
  },
  "language_info": {
   "codemirror_mode": {
    "name": "ipython",
    "version": 3
   },
   "file_extension": ".py",
   "mimetype": "text/x-python",
   "name": "python",
   "nbconvert_exporter": "python",
   "pygments_lexer": "ipython3",
   "version": "3.9.13"
  }
 },
 "nbformat": 4,
 "nbformat_minor": 1
}
